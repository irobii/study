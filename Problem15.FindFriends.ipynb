{
 "cells": [
  {
   "cell_type": "markdown",
   "metadata": {},
   "source": [
    "2019-04-02 작성\n",
    "\n",
    "# 모두의 알고리즘 with 파이썬\n",
    "\n",
    "## 넷째 마당: 자료 구조\n",
    "\n",
    "## 문제 15. 친구의 친구 찾기"
   ]
  },
  {
   "cell_type": "markdown",
   "metadata": {},
   "source": [
    "### 친구 관계를 이용하여 어떤 한 사람이 직접 또는 간접으로 아는 '모든 친구'를 출력하는 알고리즘"
   ]
  },
  {
   "cell_type": "markdown",
   "metadata": {},
   "source": [
    "### 1. 용어 정리\n",
    "\n",
    "\n",
    "- <b>친구 (일촌)</b>: 어떤 두 사람이 직접 아는 사이일때, 즉 서로 친구 요청을 수락한 친구\n",
    "\n",
    "   (예) A가 B의 친구이면 B도 A의 친구\n",
    "   \n",
    "   \n",
    "- **모든 친구 (친척)**: 어떤 사람이 직접 아는 친구들과 그 친구들의 친구들, 즉 직간접으로 아는 모든 사람 (자기 자신도 포함)\n",
    "   \n",
    "   (예) A와 B가 친구이고 B와 C가 친구이고 C와 D가 친구이면 (A-B-C-D), A에게는 A, B, C, D 전부가 '모든 친구'\n",
    "\n",
    "\n",
    "- **친밀도 (촌수)**: 어떤 사람 두 명이 서로 직간접으로 아는 사이일 때 두 명이 서로 몇 단계를 거쳐 아는지 나타내는 숫자입니다 (자기 자신의 친밀도는 0)\n",
    "\n",
    "   (예) A와 B가 친구이고 B와 C가 친구이고 C와 D가 친구이면 (A-B-C-D), A와 B의 친밀도는 1, A와 C의 친밀도는 2, A와 D의 친밀도는 3입니다."
   ]
  },
  {
   "cell_type": "markdown",
   "metadata": {},
   "source": [
    "### 2. 그래프\n",
    "\n",
    "친구 관계를 푸는 데 필요한 그래프: 꼭짓점 (vertex)들과 그 꼭짓점 사이를 연결한 선 (edge)의 집합. 각 사람을 꼭짓점으로, 사람들의 친구 관계를 선으로 표현할 수 있음."
   ]
  },
  {
   "cell_type": "markdown",
   "metadata": {},
   "source": [
    "### 3. 그래프로 친구 관계 표현하기\n",
    "\n",
    "8명의 친구 관계를 그래프로 표현\n",
    "\n",
    "- Summer와 John은 서로 친구입니다.\n",
    "\n",
    "- Summer와 Justin은 서로 친구입니다.\n",
    "\n",
    "- Summer와 Mike는 서로 친구입니다.\n",
    "\n",
    "- Justin과 May는 서로 친구입니다.\n",
    "\n",
    "- May와 Kim은 서로 친구입니다.\n",
    "\n",
    "- John과 Justin은 서로 친구입니다.\n",
    "\n",
    "- Justin과 Mike는 서로 친구입니다.\n",
    "\n",
    "- Tom과 Jerry는 서로 친구입니다.\n",
    "\n",
    "<img src=\"images/fig15-1.jpg\">"
   ]
  },
  {
   "cell_type": "markdown",
   "metadata": {},
   "source": [
    "### 4. 파이썬으로 그래프 표현하기\n",
    "\n",
    "그래프를 표현하려면 각 꼭짓점의 정보부터 저장해야 함. 그래프를 표현할 fr_info 딕셔너리를 만들고 키(key)로 각 꼭짓점을 지정한다."
   ]
  },
  {
   "cell_type": "raw",
   "metadata": {},
   "source": [
    "fr_info = {\n",
    "    'Summer':\n",
    "    'John':\n",
    "    'Justin':\n",
    "    'Mike':\n",
    "    'May':\n",
    "    'Kim':\n",
    "    'Tom':\n",
    "    'Jerry':\n",
    "}"
   ]
  },
  {
   "cell_type": "markdown",
   "metadata": {},
   "source": [
    "딕셔너리에는 키와 키에 대응하는 값(value)가 필요하기 때문에 이 프로그램은 실행되지 않음. 꼭짓점과 더불어 그래프에 없어서는 안 되는 필수 요소인 '선'. 각 꼭짓점에 직접 연결된 다른 꼭짓점들의 리스트를 만들어서 fr_info의 키에 대응하는 값으로 적어 주면 됨.\n",
    "\n",
    "예를 들어 ['John', 'Justin', 'Mike']와 같이 자료 세 개로 만들어진 리스틀ㄹ 다음과 같이 키 'Summer'의 값으로 대응시킨다.\n",
    "\n",
    "'Summer': ['John', 'Justin', 'Mike'],\n",
    "\n",
    "완성된 친구 정보 그래프 프로그램은 다음과 같다.\n",
    "\n",
    "fr_info = {\n",
    "    'Summer': ['John', 'Justin', 'Mike'],\n",
    "    'John': ['Summer', 'Justin'],\n",
    "    'Justin': ['John', 'Summer', 'Mike', 'May'],\n",
    "    'Mike': ['Summer', 'Justin'],\n",
    "    'May': ['Justin', 'Kim'],\n",
    "    'Kim': ['May'],\n",
    "    'Tom': ['Jerry'],\n",
    "    'Jerry': ['Tom']\n",
    "}\n",
    "\n",
    "참고로 A가 B의 친구면 B는 자동으로 A의 친구."
   ]
  },
  {
   "cell_type": "markdown",
   "metadata": {},
   "source": [
    "### 5. 모든 친구 찾기 알고리즘\n",
    "\n",
    "**문제를 풀기위한 고려점**\n",
    "\n",
    "1. 앞으로 처리해야 할 사람들 (변수 이름 'qu'). 꼬리에 꼬리를 무는 친구의 친구들을 한 명도 빠뜨리지 않고 처리하려면 친구의 이름이 나올 때마다 메모지에 적어 두었다가 한 명씩 처리하면 메모지에서 지워야 함.\n",
    "\n",
    "2. 이미 추가된 사람들 (변수 이름 'done'). 친구 추적 과정에서 한 명이 여러 번 나오거나 추적이 무한 반복되지 않게 하려면 이미 처리 대상으로 올린 사람은 중복도지 않도록 메모지에 적어 두어야 함.\n",
    "\n",
    "\n",
    "**알고리즘**\n",
    "\n",
    "1. 앞으로 처리할 사람을 저장할 큐(qu)를 만든다.\n",
    "\n",
    "2. 이미 큐에 추가한 사람을 저장할 집합(done)을 만든다.\n",
    "\n",
    "3. 검색의 출발점이 될 사람을 큐(qu)와 집합(done)에 추가한다.\n",
    "\n",
    "4. 큐에 사람이 남아 있다면 큐에서 처리할 사람을 꺼낸다.\n",
    "\n",
    "5. 꺼낸 사람을 출력한다.\n",
    "\n",
    "6. 꺼낸 사람의 친구들 중 아직 큐(qu)에 추가된 적이 없는 사람을 골라 큐(qu)와 집합(done)에 추가한다.\n",
    "\n",
    "7. 큐에 처리할 사람이 남아 있다면 4번 과정부터 다시 반복한다."
   ]
  },
  {
   "cell_type": "markdown",
   "metadata": {},
   "source": [
    "**모든 친구를 찾는 알고리즘 (프로그램 15-1 : 예제 소스 p15-1-friend.py)**"
   ]
  },
  {
   "cell_type": "code",
   "execution_count": 1,
   "metadata": {},
   "outputs": [
    {
     "name": "stdout",
     "output_type": "stream",
     "text": [
      "Summer\n",
      "John\n",
      "Justin\n",
      "Mike\n",
      "May\n",
      "Kim\n",
      "\n",
      "Jerry\n",
      "Tom\n"
     ]
    }
   ],
   "source": [
    "# 친구 리스트에서 자신의 모든 친구를 찾는 알고리즘\n",
    "# 입력: 친구 관계 그래프 g, 모든 친구를 찾을 자신 start\n",
    "# 출력: 모든 친구의 이름\n",
    "\n",
    "def print_all_friends(g, start):\n",
    "    qu = []       # 기억 장소1: 앞으로 처리해야 할 사람들을 큐에 저장\n",
    "    done = set()  # 기억 장소2: 이미 큐에 추가한 사람들을 집합에 기록(중복 방지)\n",
    "\n",
    "    qu.append(start)  # 자신을 큐에 넣고 시작\n",
    "    done.add(start)   # 집합에도 추가\n",
    "\n",
    "    while qu:           # 큐에 처리할 사람이 남아 있는 동안\n",
    "        p = qu.pop(0)   # 큐에서 처리 대상을 한 명 꺼내\n",
    "        print(p)        # 이름을 출력하고\n",
    "        for x in g[p]:  # 그의 친구들 중에\n",
    "            if x not in done:  # 아직 큐에 추가된 적이 없는 사람을\n",
    "                qu.append(x)   # 큐에 추가하고\n",
    "                done.add(x)    # 집합에도 추가\n",
    "\n",
    "# 친구 관계 리스트\n",
    "# A와 B가 친구이면\n",
    "# A의 친구 리스트에도 B가 나오고, B의 친구 리스트에도 A가 나옴\n",
    "fr_info = {\n",
    "    'Summer': ['John', 'Justin', 'Mike'],\n",
    "    'John': ['Summer', 'Justin'],\n",
    "    'Justin': ['John', 'Summer', 'Mike', 'May'],\n",
    "    'Mike': ['Summer', 'Justin'],\n",
    "    'May': ['Justin', 'Kim'],\n",
    "    'Kim': ['May'],\n",
    "    'Tom': ['Jerry'],\n",
    "    'Jerry': ['Tom']\n",
    "}\n",
    "\n",
    "print_all_friends(fr_info, 'Summer')\n",
    "print()\n",
    "print_all_friends(fr_info, 'Jerry')\n"
   ]
  },
  {
   "cell_type": "markdown",
   "metadata": {},
   "source": [
    "프로그램 15-1은 그래프에서 연결된 모든 꼭짓점을 탐색하는 알고리즘이므로 '그래프 탐색 알고리즘'이라고도 불림. 싸이월드에서는 이와 같은 그래프 탐색 알고리즘을 사용해 모든 회원의 친척을 뽑아내고 촌수 관계까지 계산하는 것. 이제 이 알고리즘에 친밀도(촌수) 계산까지 넣어보자."
   ]
  },
  {
   "cell_type": "markdown",
   "metadata": {},
   "source": [
    "### 6. 친밀도 계산 알고리즘\n",
    "\n",
    "A와 B가 친구이고 B와 C가 친구라고 가정해 보자 (A-B-C).\n",
    "\n",
    "A를 기준으로 B의 친밀도는 1, B를 기준으로 C의 친밀도는 1. 한편, A와 C는 B를 통해 친구의 친구가 되었으므로 A를 기준으로 C의 친밀도가  2라는 것을 쉽게 알 수 있음. 일반적으로 A라는 사람과 X라는 사람의 친밀도가 n이면 X의 친구 Y는 A와 친밀도 n+1이 된다.\n",
    "\n",
    "![](images/fig15-2.jpg)"
   ]
  },
  {
   "cell_type": "markdown",
   "metadata": {},
   "source": [
    "**모든 친구를 찾아서 친밀도를 계산하는 알고리즘 (프로그램 15-2 : 예제 소스 p15-2-friend.py)**"
   ]
  },
  {
   "cell_type": "code",
   "execution_count": 2,
   "metadata": {},
   "outputs": [
    {
     "name": "stdout",
     "output_type": "stream",
     "text": [
      "Summer 0\n",
      "John 1\n",
      "Justin 1\n",
      "Mike 1\n",
      "May 2\n",
      "Kim 3\n",
      "\n",
      "Jerry 0\n",
      "Tom 1\n"
     ]
    }
   ],
   "source": [
    "# 친구 리스트에서 자신의 모든 친구를 찾고 친구들의 친밀도를 계산하는 알고리즘\n",
    "# 입력: 친구 관계 그래프 g, 모든 친구를 찾을 자신 start\n",
    "# 출력: 모든 친구의 이름과 자신과의 친밀도\n",
    "\n",
    "def print_all_friends(g, start):\n",
    "    qu = []       # 기억 장소 1: 앞으로 처리해야 할 (사람 이름, 친밀도) 튜플을 큐에 저장\n",
    "    done = set()  # 기억 장소 2: 이미 큐에 추가한 사람을 집합에 기록(중복 방지)\n",
    "\n",
    "    qu.append((start, 0))  # (사람 이름, 친밀도) 정보를 하나의 튜플로 묶어 처리(자기 자신 친밀도: 0)\n",
    "    done.add(start)        # 집합에도 추가\n",
    "\n",
    "    while qu:               # 큐에 처리할 사람이 남아 있는 동안\n",
    "        (p, d) = qu.pop(0)  # 큐에서 (사람 이름, 친밀도) 정보를 p와 d로 각각 꺼냄\n",
    "        print(p, d)         # 사람 이름과 친밀도를 출력\n",
    "        for x in g[p]:      # 친구들 중에\n",
    "            if x not in done:          # 아직 큐에 추가된 적이 없는 사람을\n",
    "                qu.append((x, d + 1))  # 친밀도를 1 증가시켜 큐에 추가하고\n",
    "                done.add(x)            # 집합에도 추가\n",
    "\n",
    "fr_info = {\n",
    "    'Summer': ['John', 'Justin', 'Mike'],\n",
    "    'John': ['Summer', 'Justin'],\n",
    "    'Justin': ['John', 'Summer', 'Mike', 'May'],\n",
    "    'Mike': ['Summer', 'Justin'],\n",
    "    'May': ['Justin', 'Kim'],\n",
    "    'Kim': ['May'],\n",
    "    'Tom': ['Jerry'],\n",
    "    'Jerry': ['Tom']\n",
    "}\n",
    "\n",
    "print_all_friends(fr_info, 'Summer')\n",
    "print()\n",
    "print_all_friends(fr_info, 'Jerry')\n"
   ]
  },
  {
   "cell_type": "markdown",
   "metadata": {},
   "source": [
    "**참고) 파이썬의 튜플**\n",
    "\n",
    "프로그램 15-2에서는 처리해야 할 사람 이름과 친밀도를 같이 묶어서 큐에 보관하기 위해 파이썬의 튜플(tuple) 기능을 활용하였음. 튜플은 여러 개의 정보를 묶어서 하나의 정보처럼 사용하기 위한 기능으로 수학에서 x 좌표와 y 좌표를 묶어서 순서쌍 (x, y)로 표현하는 것과 비슷한 개념."
   ]
  },
  {
   "cell_type": "markdown",
   "metadata": {},
   "source": [
    "**연습문제 15-1**. 문제 15에서 배운 그래프 탐색 알고리즘을 이용하여 다음 그래프를 탐색하는 프로그램을 만들어 보세요 (시작 꼭짓점: 1)\n",
    "![](images/fig15-3.jpg)"
   ]
  },
  {
   "cell_type": "code",
   "execution_count": 3,
   "metadata": {},
   "outputs": [
    {
     "name": "stdout",
     "output_type": "stream",
     "text": [
      "1\n",
      "2\n",
      "3\n",
      "4\n",
      "5\n"
     ]
    }
   ],
   "source": [
    "# 그래프 탐색: 너비 우선 탐색\n",
    "# 입력: 그래프 g, 탐색 시작점 start\n",
    "# 출력: start에서 출발해 연결된 꼭짓점들을 출력\n",
    "\n",
    "def bfs(g, start):\n",
    "    qu = []          # 기억 장소 1: 앞으로 처리해야 할 꼭짓점을 큐에 저장\n",
    "    done = set()     # 기억 장소 2: 이미 큐에 추가한 꼭짓점들을 집합에 기록(중복 방지)\n",
    "\n",
    "    qu.append(start) # 시작점을 큐에 넣고 시작\n",
    "    done.add(start)  # 집합에도 추가\n",
    "\n",
    "    while qu:                  # 큐에 처리할 꼭짓점이 남아있으면\n",
    "        p = qu.pop(0)          # 큐에서 처리 대상을 꺼내어\n",
    "        print(p)               # 꼭짓점 이름을 출력하고\n",
    "        for x in g[p]:         # 대상 꼭짓점에 연결된 꼭짓점들 중에\n",
    "            if x not in done:  # 아직 큐에 추가된 적이 없는 꼭짓점들을\n",
    "                qu.append(x)   # 큐에 추가하고\n",
    "                done.add(x)    # 집합에도 추가\n",
    "\n",
    "# 그래프 정보\n",
    "g = {\n",
    "    1: [2, 3],\n",
    "    2: [1, 4, 5],\n",
    "    3: [1],\n",
    "    4: [2],\n",
    "    5: [2]\n",
    "}\n",
    "\n",
    "bfs(g, 1)\n"
   ]
  },
  {
   "cell_type": "markdown",
   "metadata": {},
   "source": [
    "**연습문제 15-2.** 연습문제 15-1에서 만든 프로그램이 그래프를 탐색해 가는 과정을 단계별로 적어 보세요.\n",
    "\n",
    "1) 시작 꼭짓점을 qu와 done에 각각 추가하고 시작한다. -> qu=[1], done={1}\n",
    "\n",
    "2) qu에서 1을 꺼내 출력한다. -> qu=[], done={1}\n",
    "\n",
    "3) 1에 연결된 2, 3을 qu와 done에 추가한다. -> qu=[2,3], done={1,2,3}\n",
    "\n",
    "4) qu에서 2를 꺼내 출력한다. -> qu=[3], done={1,2,3}\n",
    "\n",
    "5) 2에 연결된 1, 4, 5 중에서 1은 이미 done에 있으므로 중복되지 않도록 제외하고 4, 5를 qu와 done에 추가한다. -> qu=[3,4,5], done={1,2,3,4,5}\n",
    "\n",
    "6) qu에서 3을 꺼내 출력한다. -> qu=[4,5], done={1,2,3,4,5}\n",
    "\n",
    "7) 3에 연결된 1은 이미 done에 있으므로 추가하지 않는다.\n",
    "\n",
    "8) qu에서 4를 꺼내 출력한다. -> qu=[5], done={1,2,3,4,5}\n",
    "\n",
    "9) 4에 연결된 2는 이미 done에 있으므로 추가하지 않는다.\n",
    "\n",
    "10) qu에서 5를 꺼내 출력한다. -> qu=[], done={1,2,3,4,5}\n",
    "\n",
    "11) 5에 연결된 2는 이미 done에 있으므로 추가하지 않는다.\n",
    "\n",
    "12) qu가 비었으므로 종료한다.\n",
    "\n",
    "13)  이 과정으로 출력된 꼭짓점 순서는 1->2->3->4->5이다."
   ]
  },
  {
   "cell_type": "code",
   "execution_count": null,
   "metadata": {},
   "outputs": [],
   "source": []
  }
 ],
 "metadata": {
  "kernelspec": {
   "display_name": "Python 3",
   "language": "python",
   "name": "python3"
  },
  "language_info": {
   "codemirror_mode": {
    "name": "ipython",
    "version": 3
   },
   "file_extension": ".py",
   "mimetype": "text/x-python",
   "name": "python",
   "nbconvert_exporter": "python",
   "pygments_lexer": "ipython3",
   "version": "3.7.1"
  }
 },
 "nbformat": 4,
 "nbformat_minor": 2
}
